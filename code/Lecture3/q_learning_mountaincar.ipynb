{
 "cells": [
  {
   "cell_type": "code",
   "execution_count": 1,
   "metadata": {},
   "outputs": [],
   "source": [
    "\"\"\"\n",
    "Model-free Prediction and Control\n",
    "Example of SARSA Learning (on-policy) and Q-Learning (off-policy) using OpenAI gym MountainCar enviornment (https://gym.openai.com/envs/MountainCar-v0/)\n",
    "Bolei Zhou for IERG6130, with parts of code adapted from Moustafa Alzantot (malzantot@ucla.edu)\n",
    "\"\"\"\n",
    "import numpy as np\n",
    "import gym\n",
    "from gym import wrappers\n",
    "from IPython import display\n",
    "import matplotlib\n",
    "import matplotlib.pyplot as plt\n",
    "%matplotlib inline"
   ]
  },
  {
   "cell_type": "code",
   "execution_count": 2,
   "metadata": {},
   "outputs": [],
   "source": [
    "off_policy = True # if True use off-policy q-learning update, if False, use on-policy SARSA update"
   ]
  },
  {
   "cell_type": "code",
   "execution_count": 3,
   "metadata": {},
   "outputs": [],
   "source": [
    "n_states = 40\n",
    "iter_max = 5000"
   ]
  },
  {
   "cell_type": "code",
   "execution_count": 4,
   "metadata": {},
   "outputs": [],
   "source": [
    "initial_lr = 1.0 # Learning rate\n",
    "min_lr = 0.003\n",
    "gamma = 1.0\n",
    "t_max = 10000\n",
    "eps = 0.1"
   ]
  },
  {
   "cell_type": "code",
   "execution_count": 5,
   "metadata": {},
   "outputs": [],
   "source": [
    "def run_episode(env, policy=None, render=False):\n",
    "    obs = env.reset()\n",
    "    total_reward = 0\n",
    "    step_idx = 0\n",
    "    if render:\n",
    "        img = plt.imshow(env.render(mode='rgb_array')) # only call this once\n",
    "    for _ in range(t_max):\n",
    "        if render:\n",
    "            img.set_data(env.render(mode='rgb_array')) # just update the data\n",
    "            display.display(plt.gcf())\n",
    "            display.clear_output(wait=True)\n",
    "        if policy is None:\n",
    "            action = env.action_space.sample()\n",
    "        else:\n",
    "            a,b = obs_to_state(env, obs)\n",
    "            action = policy[a][b]\n",
    "        obs, reward, done, _ = env.step(action)\n",
    "        total_reward += gamma ** step_idx * reward\n",
    "        step_idx += 1\n",
    "        if done:\n",
    "            break\n",
    "    return total_reward"
   ]
  },
  {
   "cell_type": "code",
   "execution_count": 6,
   "metadata": {},
   "outputs": [],
   "source": [
    "def obs_to_state(env, obs):\n",
    "    \"\"\" Maps an observation to state \"\"\"\n",
    "    # we quantify the continous state space into discrete space\n",
    "    env_low = env.observation_space.low\n",
    "    env_high = env.observation_space.high\n",
    "    env_dx = (env_high - env_low) / n_states\n",
    "    a = int((obs[0] - env_low[0])/env_dx[0])\n",
    "    b = int((obs[1] - env_low[1])/env_dx[1])\n",
    "    return a, b"
   ]
  },
  {
   "cell_type": "code",
   "execution_count": 7,
   "metadata": {},
   "outputs": [
    {
     "name": "stdout",
     "output_type": "stream",
     "text": [
      "----- using Q Learning -----\n",
      "Iteration #1 -- Total reward = -200.\n",
      "Iteration #201 -- Total reward = -200.\n",
      "Iteration #401 -- Total reward = -200.\n",
      "Iteration #601 -- Total reward = -200.\n",
      "Iteration #801 -- Total reward = -200.\n",
      "Iteration #1001 -- Total reward = -200.\n",
      "Iteration #1201 -- Total reward = -200.\n",
      "Iteration #1401 -- Total reward = -200.\n",
      "Iteration #1601 -- Total reward = -200.\n",
      "Iteration #1801 -- Total reward = -200.\n",
      "Iteration #2001 -- Total reward = -161.\n",
      "Iteration #2201 -- Total reward = -200.\n",
      "Iteration #2401 -- Total reward = -200.\n",
      "Iteration #2601 -- Total reward = -200.\n",
      "Iteration #2801 -- Total reward = -200.\n",
      "Iteration #3001 -- Total reward = -153.\n",
      "Iteration #3201 -- Total reward = -159.\n",
      "Iteration #3401 -- Total reward = -200.\n",
      "Iteration #3601 -- Total reward = -200.\n",
      "Iteration #3801 -- Total reward = -200.\n",
      "Iteration #4001 -- Total reward = -200.\n",
      "Iteration #4201 -- Total reward = -200.\n",
      "Iteration #4401 -- Total reward = -200.\n",
      "Iteration #4601 -- Total reward = -200.\n",
      "Iteration #4801 -- Total reward = -200.\n",
      "Average score of solution =  -149.42\n"
     ]
    }
   ],
   "source": [
    "env_name = 'MountainCar-v0'\n",
    "env = gym.make(env_name)\n",
    "env.seed(0)\n",
    "np.random.seed(0)\n",
    "if off_policy == True:\n",
    "    print ('----- using Q Learning -----')\n",
    "else:\n",
    "    print('------ using SARSA Learning ---')\n",
    "\n",
    "q_table = np.zeros((n_states, n_states, 3))\n",
    "for i in range(iter_max):\n",
    "    obs = env.reset()\n",
    "    total_reward = 0\n",
    "    ## eta: learning rate is decreased at each step\n",
    "    eta = max(min_lr, initial_lr * (0.85 ** (i//100)))\n",
    "    for j in range(t_max):\n",
    "        a, b = obs_to_state(env, obs)\n",
    "        if np.random.uniform(0, 1) < eps:\n",
    "            action = np.random.choice(env.action_space.n)\n",
    "        else:\n",
    "            action = np.argmax(q_table[a][b])\n",
    "        obs, reward, done, _ = env.step(action)\n",
    "        total_reward += reward\n",
    "        # update q table\n",
    "        a_, b_ = obs_to_state(env, obs)\n",
    "        if off_policy == True:\n",
    "            # use q-learning update (off-policy learning)\n",
    "            q_table[a][b][action] = q_table[a][b][action] + eta * (reward + gamma *  np.max(q_table[a_][b_]) - q_table[a][b][action])\n",
    "        else:\n",
    "            # use SARSA update (on-policy learning)\n",
    "            # epsilon-greedy policy on Q again\n",
    "            if np.random.uniform(0,1) < eps:\n",
    "                action_ = np.random.choice(env.action_space.n)\n",
    "            else:\n",
    "                action_ = np.argmax(q_table[a_][b_])\n",
    "            q_table[a][b][action] = q_table[a][b][action] + eta * (reward + gamma *  q_table[a_][b_][action_] - q_table[a][b][action])\n",
    "        if done:\n",
    "            break\n",
    "    if i % 200 == 0:\n",
    "        print('Iteration #%d -- Total reward = %d.' %(i+1, total_reward))\n",
    "solution_policy = np.argmax(q_table, axis=2)\n",
    "solution_policy_scores = [run_episode(env, solution_policy, False) for _ in range(100)]\n",
    "print(\"Average score of solution = \", np.mean(solution_policy_scores))"
   ]
  },
  {
   "cell_type": "code",
   "execution_count": 8,
   "metadata": {},
   "outputs": [
    {
     "data": {
      "image/png": "[encoded data removed]",
      "text/plain": [
       "<Figure size 432x288 with 1 Axes>"
      ]
     },
     "metadata": {
      "needs_background": "light"
     },
     "output_type": "display_data"
    }
   ],
   "source": [
    "# Animate it\n",
    "for _ in range(2):\n",
    "    run_episode(env, solution_policy, True)\n",
    "env.close()"
   ]
  }
 ],
 "metadata": {
  "kernelspec": {
   "display_name": "Python 3",
   "language": "python",
   "name": "python3"
  },
  "language_info": {
   "codemirror_mode": {
    "name": "ipython",
    "version": 3
   },
   "file_extension": ".py",
   "mimetype": "text/x-python",
   "name": "python",
   "nbconvert_exporter": "python",
   "pygments_lexer": "ipython3",
   "version": "3.7.0"
  }
 },
 "nbformat": 4,
 "nbformat_minor": 4
}
