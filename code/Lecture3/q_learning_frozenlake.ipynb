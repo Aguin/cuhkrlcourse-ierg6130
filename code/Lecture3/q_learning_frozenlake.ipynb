{
 "cells": [
  {
   "cell_type": "code",
   "execution_count": 1,
   "metadata": {},
   "outputs": [],
   "source": [
    "\"\"\"\n",
    "Model-free Control for OpenAI FrozenLake env (https://gym.openai.com/envs/FrozenLake-v0/)\n",
    "Bolei Zhou for IERG6130 course example\n",
    "\"\"\"\n",
    "import gym,sys,numpy as np\n",
    "from gym.envs.registration import register"
   ]
  },
  {
   "cell_type": "code",
   "execution_count": 2,
   "metadata": {},
   "outputs": [],
   "source": [
    "no_slippery = True\n",
    "render_last = True # whether to visualize the last episode in testing"
   ]
  },
  {
   "cell_type": "code",
   "execution_count": 3,
   "metadata": {},
   "outputs": [],
   "source": [
    "# -- hyperparameters--\n",
    "num_epis_train = 10000\n",
    "num_iter = 100\n",
    "learning_rate = 0.01\n",
    "discount = 0.8\n",
    "eps = 0.3"
   ]
  },
  {
   "cell_type": "code",
   "execution_count": 4,
   "metadata": {},
   "outputs": [],
   "source": [
    "if no_slippery == True:\n",
    "    # the simplified frozen lake without slippery (so the transition is deterministic)\n",
    "    register(\n",
    "        id='FrozenLakeNotSlippery-v0',\n",
    "        entry_point='gym.envs.toy_text:FrozenLakeEnv',\n",
    "        kwargs={'map_name' : '4x4', 'is_slippery': False},\n",
    "        max_episode_steps=1000,\n",
    "        reward_threshold=0.78, # optimum = .8196\n",
    "    )\n",
    "    env = gym.make('FrozenLakeNotSlippery-v0')\n",
    "else:\n",
    "    # the standard slippery frozen lake\n",
    "    env = gym.make('FrozenLake-v0')"
   ]
  },
  {
   "cell_type": "code",
   "execution_count": 5,
   "metadata": {},
   "outputs": [],
   "source": [
    "q_learning_table = np.zeros([env.observation_space.n,env.action_space.n])"
   ]
  },
  {
   "cell_type": "code",
   "execution_count": 6,
   "metadata": {},
   "outputs": [],
   "source": [
    "# -- training the agent ----\n",
    "for epis in range(num_epis_train):\n",
    "    state = env.reset()\n",
    "    for iter in range(num_iter):\n",
    "        if np.random.uniform(0, 1) < eps:\n",
    "            action = np.random.choice(env.action_space.n)\n",
    "        else:\n",
    "            action = np.argmax(q_learning_table[state,:])\n",
    "        state_new, reward, done,_ = env.step(action)\n",
    "        q_learning_table[state,action] = q_learning_table[state, action] + learning_rate * (reward + discount*np.max(q_learning_table[state_new,:]) - q_learning_table[state, action])\n",
    "        state = state_new\n",
    "        if done: break"
   ]
  },
  {
   "cell_type": "code",
   "execution_count": 7,
   "metadata": {},
   "outputs": [
    {
     "name": "stdout",
     "output_type": "stream",
     "text": [
      "[1 0 0 0 1 0 1 0 2 2 1 0 0 2 2 0]\n",
      "[[2.34263e-01 3.27677e-01 1.30567e-01 2.37921e-01]\n",
      " [2.27968e-01 0.00000e+00 2.43700e-03 1.91240e-02]\n",
      " [3.23450e-02 9.41700e-03 0.00000e+00 9.00000e-05]\n",
      " [0.00000e+00 0.00000e+00 0.00000e+00 0.00000e+00]\n",
      " [2.76927e-01 4.09598e-01 0.00000e+00 2.20370e-01]\n",
      " [0.00000e+00 0.00000e+00 0.00000e+00 0.00000e+00]\n",
      " [0.00000e+00 4.86645e-01 0.00000e+00 1.17000e-03]\n",
      " [0.00000e+00 0.00000e+00 0.00000e+00 0.00000e+00]\n",
      " [3.50856e-01 0.00000e+00 5.11999e-01 2.81964e-01]\n",
      " [3.27977e-01 4.42630e-01 6.40000e-01 0.00000e+00]\n",
      " [4.05087e-01 8.00000e-01 0.00000e+00 2.42706e-01]\n",
      " [0.00000e+00 0.00000e+00 0.00000e+00 0.00000e+00]\n",
      " [0.00000e+00 0.00000e+00 0.00000e+00 0.00000e+00]\n",
      " [0.00000e+00 1.11932e-01 7.64365e-01 1.06050e-01]\n",
      " [4.31344e-01 6.78247e-01 1.00000e+00 5.19312e-01]\n",
      " [0.00000e+00 0.00000e+00 0.00000e+00 0.00000e+00]]\n"
     ]
    }
   ],
   "source": [
    "print(np.argmax(q_learning_table,axis=1))\n",
    "print(np.around(q_learning_table,6))"
   ]
  },
  {
   "cell_type": "code",
   "execution_count": 8,
   "metadata": {},
   "outputs": [
    {
     "name": "stdout",
     "output_type": "stream",
     "text": [
      "---Frozenlake without slippery move-----\n"
     ]
    }
   ],
   "source": [
    "if no_slippery == True:\n",
    "    print('---Frozenlake without slippery move-----')\n",
    "else:\n",
    "    print('---Standard frozenlake------------------')"
   ]
  },
  {
   "cell_type": "code",
   "execution_count": 9,
   "metadata": {},
   "outputs": [
    {
     "name": "stdout",
     "output_type": "stream",
     "text": [
      "  (Down)\n",
      "SFFF\n",
      "\u001b[41mF\u001b[0mHFH\n",
      "FFFH\n",
      "HFFG\n",
      "  (Down)\n",
      "SFFF\n",
      "FHFH\n",
      "\u001b[41mF\u001b[0mFFH\n",
      "HFFG\n",
      "  (Right)\n",
      "SFFF\n",
      "FHFH\n",
      "F\u001b[41mF\u001b[0mFH\n",
      "HFFG\n",
      "  (Right)\n",
      "SFFF\n",
      "FHFH\n",
      "FF\u001b[41mF\u001b[0mH\n",
      "HFFG\n",
      "  (Down)\n",
      "SFFF\n",
      "FHFH\n",
      "FFFH\n",
      "HF\u001b[41mF\u001b[0mG\n",
      "  (Right)\n",
      "SFFF\n",
      "FHFH\n",
      "FFFH\n",
      "HFF\u001b[41mG\u001b[0m\n"
     ]
    }
   ],
   "source": [
    "# visualize no uncertainty\n",
    "num_episode = 500\n",
    "rewards = 0\n",
    "for epi in range(num_episode):\n",
    "    s = env.reset()\n",
    "    for _ in range(100):\n",
    "        action  = np.argmax(q_learning_table[s,:])\n",
    "        state_new, reward_episode, done_episode, _ = env.step(action)\n",
    "        if epi == num_episode -1 and render_last:\n",
    "            env.render()\n",
    "        s = state_new\n",
    "        if done_episode:\n",
    "            if reward_episode==1:\n",
    "                rewards += 1\n",
    "            break"
   ]
  },
  {
   "cell_type": "code",
   "execution_count": 10,
   "metadata": {},
   "outputs": [
    {
     "name": "stdout",
     "output_type": "stream",
     "text": [
      "---Success rate=1.000\n",
      "-------------------------------\n"
     ]
    }
   ],
   "source": [
    "print('---Success rate=%.3f'%(rewards*1.0 / num_episode))\n",
    "print('-------------------------------')"
   ]
  }
 ],
 "metadata": {
  "kernelspec": {
   "display_name": "Python 3",
   "language": "python",
   "name": "python3"
  },
  "language_info": {
   "codemirror_mode": {
    "name": "ipython",
    "version": 3
   },
   "file_extension": ".py",
   "mimetype": "text/x-python",
   "name": "python",
   "nbconvert_exporter": "python",
   "pygments_lexer": "ipython3",
   "version": "3.7.0"
  }
 },
 "nbformat": 4,
 "nbformat_minor": 4
}
